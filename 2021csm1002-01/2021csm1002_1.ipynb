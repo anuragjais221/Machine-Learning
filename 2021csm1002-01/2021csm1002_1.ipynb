{
 "cells": [
  {
   "cell_type": "code",
   "execution_count": 10,
   "metadata": {},
   "outputs": [
    {
     "name": "stdout",
     "output_type": "stream",
     "text": [
      "[1, 1, 0, 0, 0, 1, 0, 0, 1, 0, 0, 0, 0, 1, 1, 1, 1, 0, 1, 1, 1, 0, 1, 1, 1, 1, 0, 1, 0, 0]\n"
     ]
    }
   ],
   "source": [
    "import numpy as np\n",
    "import pandas as pd\n",
    "import random\n",
    "import matplotlib.pyplot as plt\n",
    "import math\n",
    "# import seaborn as sns\n",
    "import pandas as pd\n",
    "\n",
    "def generate_y_vector(a, b, N):\n",
    "    y = []\n",
    "    for i in range(N):\n",
    "        y.append(random.randint(a, b))  # [0,1]\n",
    "    return y\n",
    "\n",
    "\n",
    "Y = generate_y_vector(0, 1, 30)\n",
    "print(Y)"
   ]
  },
  {
   "cell_type": "code",
   "execution_count": 8,
   "metadata": {},
   "outputs": [
    {
     "name": "stdout",
     "output_type": "stream",
     "text": [
      "[]\n"
     ]
    }
   ],
   "source": [
    "l = []\n",
    "\n",
    "x1_red = []\n",
    "x2_red = []\n",
    "x1_green = []\n",
    "x2_green = []\n",
    "red_points = []\n",
    "green_points = []\n",
    "\n",
    "for el in Y:\n",
    "    if el == 1:\n",
    "        # print(np.random.uniform(2,7))\n",
    "        p = []\n",
    "        x1 = np.random.uniform(2, 7)\n",
    "        x2 = np.random.uniform(4, 6)\n",
    "\n",
    "        # l.append(p)\n",
    "        x1_red.append(x1)\n",
    "        x2_red.append(x2)\n",
    "        red_points.append((x1,x2))\n",
    "\n",
    "    else:\n",
    "        \n",
    "        s = np.random.choice([ np.random.uniform(0, 2), np.random.uniform(7, 9)])\n",
    "        t = np.random.choice([np.random.uniform(1, 3), np.random.uniform(6, 8)])\n",
    "        \n",
    "        # p.append(s)\n",
    "        # p.append(t)\n",
    "        x1_green.append(s)\n",
    "        x2_green.append(t)\n",
    "        green_points.append((s,t))\n",
    "        # l.append(p)\n",
    "\n",
    "print(l)\n",
    "# print(\"data_set : \",data_set)\n",
    "# X = np.mat(l)\n",
    "# print(X)"
   ]
  },
  {
   "cell_type": "code",
   "execution_count": 11,
   "metadata": {},
   "outputs": [
    {
     "data": {
      "image/png": "[encoded data removed]",
      "text/plain": [
       "<Figure size 432x288 with 1 Axes>"
      ]
     },
     "metadata": {
      "needs_background": "light"
     },
     "output_type": "display_data"
    }
   ],
   "source": [
    "fig, ax = plt.subplots()\n",
    "plt.scatter(x1_red,x2_red,c = 'red')\n",
    "plt.scatter(x1_green,x2_green,c='green')\n",
    "\n",
    "\n",
    "min_x1_red = min(x1_red)\n",
    "min_x2_red = min(x2_red)\n",
    "max_x1_red = max(x1_red)\n",
    "max_x2_red = max(x2_red)\n",
    "\n",
    "width = max_x1_red - min_x1_red\n",
    "height = max_x2_red - min_x2_red\n",
    "ax.add_patch(plt.Rectangle((min(x1_red),min(x2_red)),width,height,fc=\"none\",ec = \"blue\"))\n",
    "\n",
    "left_green = []\n",
    "right_green = []\n",
    "\n",
    "bottom_green=[]\n",
    "up_green = []\n",
    "\n",
    "for g in x1_green:\n",
    "    if g < min_x1_red:\n",
    "        left_green.append(g)\n",
    "\n",
    "for g in x2_green:\n",
    "    if g < min_x2_red:\n",
    "        bottom_green.append(g)\n",
    "\n",
    "for g in x1_green:\n",
    "    if g > max_x1_red:\n",
    "        right_green.append(g)\n",
    "\n",
    "for g in x2_green:\n",
    "    if g > max_x2_red:\n",
    "        up_green.append(g)\n",
    "\n",
    "\n",
    "w=min(right_green)-max(left_green)\n",
    "h=min(up_green)-min(bottom_green)\n",
    "# ax.add_patch(plt.Rectangle((min(xg)+0.1,min(yg)+0.1), max(xg)-0.1-(min(xg)+0.1), max(yg)-0.1-(min(yg)+0.1),edgecolor='r', facecolor=\"none\"))\n",
    "ax.add_patch(plt.Rectangle((max(left_green),max(bottom_green)),w,h,fc=\"none\",ec = \"blue\"))\n",
    "plt.show()\n",
    "# radius = math.sqrt((width**2+height**2))/2\n",
    "# ax.add_patch(plt.Circle((min_x1_red+width/2,min_x2_red+height/2),radius,fc=\"none\",ec = \"blue\"))\n",
    "\n",
    "# r = math.sqrt((w**2+h**2))/2\n",
    "\n",
    "# ax.add_patch(plt.Circle((max(left_green)+w/2,max(bottom_green)+h/2),r,fc=\"none\",ec = \"blue\"))\n",
    "\n",
    "# df.head()\n",
    "# sns.scatterplot(data=data_set, x=\"x1\", y=\"x2\", hue=\"y\",style=\"y\")"
   ]
  },
  {
   "cell_type": "code",
   "execution_count": null,
   "metadata": {},
   "outputs": [],
   "source": [
    "# fig, ax = plt.subplots()\n",
    "# plt.scatter(x1_red,x2_red,c = 'red')\n",
    "# plt.scatter(x1_green,x2_green,c='green')\n",
    "\n",
    "\n",
    "# # min_x1_red = min(x1_red)\n",
    "# # min_x2_red = min(x2_red)\n",
    "# # max_x1_red = max(x1_red)\n",
    "# # max_x2_red = max(x2_red)\n",
    "\n",
    "\n",
    "# # width = max_x1_red - min_x1_red\n",
    "# # height = max_x2_red - min_x2_red\n",
    "\n",
    "\n",
    "# radius = math.sqrt((width**2+height**2))/2\n",
    "# ax.add_patch(plt.Circle((min_x1_red+width/2,min_x2_red+height/2),radius,fc=\"none\",ec = \"blue\"))\n",
    "\n",
    "# r = math.sqrt((w**2+h**2))/2\n",
    "\n",
    "# ax.add_patch(plt.Circle((max(left_green)+w/2,max(bottom_green)+h/2),r,fc=\"none\",ec = \"blue\"))\n",
    "\n",
    "# plt.show()\n"
   ]
  },
  {
   "cell_type": "code",
   "execution_count": 21,
   "metadata": {},
   "outputs": [
    {
     "data": {
      "text/plain": [
       "<matplotlib.patches.Circle at 0x1c852bcb6d0>"
      ]
     },
     "execution_count": 21,
     "metadata": {},
     "output_type": "execute_result"
    },
    {
     "data": {
      "image/png": "[encoded data removed]",
      "text/plain": [
       "<Figure size 432x288 with 1 Axes>"
      ]
     },
     "metadata": {
      "needs_background": "light"
     },
     "output_type": "display_data"
    }
   ],
   "source": [
    "fig, ax = plt.subplots()\n",
    "plt.scatter(x1_red,x2_red,c = 'red')\n",
    "plt.scatter(x1_green,x2_green,c='green')\n",
    "\n",
    "def eculedian_distance(x1,x2,y1,y2):\n",
    "    return math.sqrt(((y2-y1)**2) + ((x2-x1)**2))\n",
    "\n",
    "\n",
    "def all_red_points_covered(red_points,c_x,c_y,radius):\n",
    "    all_covered = True\n",
    "    for red_point in red_points:\n",
    "        p = round(eculedian_distance(c_x,red_point[0],c_y,red_point[1]),2)\n",
    "       \n",
    "        if(p > radius):\n",
    "            all_covered=False\n",
    "            break\n",
    "    return all_covered\n",
    "\n",
    "def any_green_point_covered(green_points,c_x,c_y,radius):\n",
    "    any_covered = False\n",
    "    for green_point in green_points:\n",
    "        f = round(eculedian_distance(c_x,green_point[0],c_y,green_point[1]),2)\n",
    "        \n",
    "        if(f < radius):\n",
    "            any_covered=True\n",
    "            break\n",
    "    return any_covered\n",
    "\n",
    "\n",
    "mean_x = (min_x1_red+max_x1_red)/2    # x-coordinate of center\n",
    "mean_y = (min_x2_red+max_x2_red)/2    # y-coordinate of center\n",
    "    \n",
    "inner_radius = 0.2                   # initial radius\n",
    "while(True):\n",
    "    if(all_red_points_covered(red_points,mean_x,mean_y,inner_radius) == True):\n",
    "        break\n",
    "    inner_radius+=0.1\n",
    "outer_radius = inner_radius\n",
    "\n",
    "while(True):\n",
    "    if(any_green_point_covered(green_points,mean_x,mean_y,outer_radius)==True):\n",
    "        break\n",
    "    outer_radius+=0.1\n",
    "outer_radius-=0.1\n",
    "center=(mean_x,mean_y)\n",
    "\n",
    "ax.add_patch(plt.Circle(center,inner_radius,fc=\"none\",ec = \"blue\"))\n",
    "\n",
    "\n",
    "ax.add_patch(plt.Circle(center,outer_radius,fc=\"none\",ec = \"blue\"))\n"
   ]
  },
  {
   "cell_type": "markdown",
   "metadata": {},
   "source": [
    "In the above plots it is clearly shown that there is a significant gap is between both the hypothesis indicating that the red and green points which possess different properties and can be easily partitioned."
   ]
  },
  {
   "cell_type": "code",
   "execution_count": null,
   "metadata": {},
   "outputs": [],
   "source": []
  }
 ],
 "metadata": {
  "interpreter": {
   "hash": "dd4e136ccb25f3c1d4cf927f595f0e0a60d2a72e76ff7233a6b4dcb2c7614e23"
  },
  "kernelspec": {
   "display_name": "Python 3.10.1 64-bit",
   "language": "python",
   "name": "python3"
  },
  "language_info": {
   "codemirror_mode": {
    "name": "ipython",
    "version": 3
   },
   "file_extension": ".py",
   "mimetype": "text/x-python",
   "name": "python",
   "nbconvert_exporter": "python",
   "pygments_lexer": "ipython3",
   "version": "3.10.1"
  },
  "orig_nbformat": 4
 },
 "nbformat": 4,
 "nbformat_minor": 2
}
