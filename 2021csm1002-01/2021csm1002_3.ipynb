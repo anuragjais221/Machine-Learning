{
 "cells": [
  {
   "cell_type": "code",
   "execution_count": 48,
   "metadata": {},
   "outputs": [
    {
     "name": "stdout",
     "output_type": "stream",
     "text": [
      "mean of standardized data :  age        -0.0\n",
      "sex        -0.0\n",
      "bmi        -0.0\n",
      "children   -0.0\n",
      "smoker     -0.0\n",
      "region      0.0\n",
      "charges    -0.0\n",
      "dtype: float64\n",
      "variance of standardized data :  age         1.0\n",
      "sex         1.0\n",
      "bmi         1.0\n",
      "children    1.0\n",
      "smoker      1.0\n",
      "region      1.0\n",
      "charges     1.0\n",
      "dtype: float64\n",
      "           age       sex       bmi  children    smoker    region      charges\n",
      "0    -1.438227 -1.010141 -0.453151 -0.908274   1.96985  1.343402  16884.92400\n",
      "1    -1.509401  0.989221  0.509431 -0.078738 -0.507273  0.438331   1725.55230\n",
      "2    -0.797655  0.989221  0.383164  1.580335 -0.507273  0.438331   4449.46200\n",
      "3    -0.441782  0.989221 -1.305043 -0.908274 -0.507273 -0.466741  21984.47061\n",
      "4    -0.512957  0.989221 -0.292447 -0.908274 -0.507273 -0.466741   3866.85520\n",
      "...        ...       ...       ...       ...       ...       ...          ...\n",
      "1333  0.768185  0.989221  0.050278  1.580335 -0.507273 -0.466741  10600.54830\n",
      "1334 -1.509401 -1.010141  0.206062 -0.908274 -0.507273 -1.371813   2205.98080\n",
      "1335 -1.509401 -1.010141  1.014499 -0.908274 -0.507273  0.438331   1629.83350\n",
      "1336 -1.295877 -1.010141 -0.797515 -0.908274 -0.507273  1.343402   2007.94500\n",
      "1337  1.551106 -1.010141 -0.261290 -0.908274   1.96985 -0.466741  29141.36030\n",
      "\n",
      "[1338 rows x 7 columns]\n"
     ]
    }
   ],
   "source": [
    "import numpy as np\n",
    "import pandas as pd\n",
    "import matplotlib.pyplot as plt\n",
    "import random\n",
    "\n",
    "df1 = pd.read_csv(\"insurance.csv\")\n",
    "df2 = pd.read_csv(\"insurance.csv\")\n",
    "\n",
    "df2.loc[df2['sex'] == 'male', 'sex'] = 1\n",
    "df2.loc[df2['sex'] == 'female', 'sex'] = 0\n",
    "df2.loc[df2['smoker'] == 'yes', 'smoker'] = 1\n",
    "df2.loc[df2['smoker'] == 'no','smoker'] = 0\n",
    "df2.loc[df2['region'] == 'southeast','region'] = 3\n",
    "df2.loc[df2['region'] == 'northwest','region'] = 2\n",
    "df2.loc[df2['region'] == 'southwest','region'] = 4\n",
    "df2.loc[df2['region'] == 'northeast','region'] = 1\n",
    "\n",
    "# print(df2)\n",
    "\n",
    "standardized_df2 = (df2-df2.mean())/df2.std()\n",
    "# standardize_df2_mean = round(np.mean(standardize_df2['age']),2)\n",
    "standardized_df2_mean = round(standardized_df2.mean(),0)\n",
    "standardized_df2_var = standardized_df2.var()\n",
    "\n",
    "\n",
    "print(\"mean of standardized data : \",standardized_df2_mean)\n",
    "print(\"variance of standardized data : \",standardized_df2_var)\n",
    "\n",
    "\n",
    "for column in df2:\n",
    "    if column != 'charges':\n",
    "        df2[column] = (df2[column] - df2[column].mean())/df2[column].std()\n",
    "\n",
    "print(df2)        \n",
    "\n",
    "# # normalized_df2_mean = round(np.mean(normalized_df2['age']),2)\n",
    "# normalized_df2_mean = round(normalized_df2.mean(),0)\n",
    "# print(normalized_df2_mean)\n",
    "# normalized_df2_std = normalized_df2.std()\n",
    "# normalized_df2_var = normalized_df2.var()\n",
    "# print( normalized_df2_var )\n",
    "\n"
   ]
  },
  {
   "cell_type": "code",
   "execution_count": 50,
   "metadata": {},
   "outputs": [
    {
     "name": "stdout",
     "output_type": "stream",
     "text": [
      "<class 'list'>\n"
     ]
    }
   ],
   "source": [
    "def train_test_split(dataset, split=0.80):\n",
    "\ttrain = list()\n",
    "\ttrain_size = split * len(dataset)\n",
    "\tdataset_copy = list(dataset)\n",
    "\twhile len(train) < train_size:\n",
    "\t\tindex = random.randrange(len(dataset_copy))\n",
    "\t\ttrain.append(dataset_copy.pop(index))\n",
    "\treturn train, dataset_copy\n",
    "\n",
    "\n",
    "def cross_validation_split(dataset, folds=3):\n",
    "\tdataset_split = list()\n",
    "\tdataset_copy = list(dataset)\n",
    "\tfold_size = int(len(dataset) / folds)\n",
    "\tfor i in range(folds):\n",
    "\t\tfold = list()\n",
    "\t\twhile len(fold) < fold_size:\n",
    "\t\t\tindex = random.randrange(len(dataset_copy))\n",
    "\t\t\tfold.append(dataset_copy.pop(index))\n",
    "\t\tdataset_split.append(fold)\n",
    "\treturn dataset_split\n",
    " \n",
    "\n",
    "dataset = np.array(df2)\n",
    "train, test = train_test_split(dataset)\n",
    "\n",
    "\n",
    "\n",
    "k = 10\n",
    "folds = cross_validation_split(train, k)\n",
    "print( type(folds) )\n",
    "# print(folds[0])\n",
    "\n",
    "\n",
    "\n",
    "    \n"
   ]
  },
  {
   "cell_type": "code",
   "execution_count": 60,
   "metadata": {},
   "outputs": [
    {
     "name": "stdout",
     "output_type": "stream",
     "text": [
      "train shape =  (1071, 7)\n",
      ",se_error :  [421414411.5547009, 423169286.099435, 424986204.98666835, 426672424.8406155, 426860778.2561778, 426864589.15535164, 427053513.967841, 428796313.88060814, 430784761.323063, 432825763.5802186]\n",
      "training error : [42141441.15547009, 84458369.7654136, 126956990.26408044, 169624232.74814197, 212310310.57375973, 254996769.48929492, 297702120.886079, 340581752.2741398, 383660228.4064461, 426942804.764468]\n",
      "test error : [44632633.34294996, 44875763.728432484, 45125729.3293058, 45356307.92419448, 45381986.87538582, 45382506.2768768, 45408247.983141236, 45645040.65354269, 45913845.27439016, 46188402.39864569]\n"
     ]
    }
   ],
   "source": [
    "def ridgereg(X, Y, l2):\n",
    "    iterations=1000\n",
    "    m,n=X.shape\n",
    "    W=np.zeros(n)\n",
    "    b=0\n",
    "    for i in range( iterations ) :            \n",
    "        w,B=update_weights(W,X,l2,Y,m,b) \n",
    "        W=w\n",
    "        b=B\n",
    "    return W,b\n",
    "\n",
    "def update_weights(W,X,l2,Y,m,b):\n",
    "    learning_rate=0.01\n",
    "    Y_pred = predridgereg( X,W,b )      \n",
    "    dW = ( - ( 2 * ( X.T ).dot( Y - Y_pred ) ) + ( 2 * l2 * W ) ) / m     \n",
    "    db = - 2 * np.sum( Y - Y_pred ) / m\n",
    "    W = W -learning_rate * dW    \n",
    "    b = b - learning_rate * db  \n",
    "    return W,b\n",
    "def predridgereg(X, weights,b):\n",
    "    return X.dot( weights ) +b\n",
    "\n",
    "\n",
    "lamda_values = [-30,-20,-10,-1,-0.01,0.01,1,10,20,30 ]\n",
    "df1 = pd.DataFrame(train,columns=['age','sex','bmi','children','smoker','region','charges'])\n",
    "print(\"train shape = \",df1.shape)\n",
    "training_error = []\n",
    "test_error = []\n",
    "mse_error = []\n",
    "\n",
    "for lamda in lamda_values:\n",
    "\t# model = RidgeRegression( iterations = 100,learning_rate = 0.01, l2_penality = lamda )\n",
    "\ttotal_mse = 0\n",
    "\tfor i in range(len(folds)):\n",
    "\t\tfold_df = pd.DataFrame(folds[i],columns=['age','sex','bmi','children','smoker','region','charges'])\n",
    "\t\t# print(\"fold shape = \",fold_df.shape)\n",
    "\t\tX_test = fold_df.drop([fold_df.columns[-1]], axis = 1)\n",
    "\t\tY_test = fold_df[fold_df.columns[-1]]\n",
    "\t\t# print(\"x test shape = \",X_test.shape)\n",
    "\t\t# print(\"y test shape = \",Y_test.shape)\n",
    "\t\tdf = df1[~df1.apply(tuple,1).isin(fold_df.apply(tuple,1))]\n",
    "\t\t# print(\"Train - fold shape\",df.shape)\n",
    "\t\tX_train = df.drop([df.columns[-1]], axis = 1)\n",
    "\t\tY_train = df[df.columns[-1]]\n",
    "\t\t# print(\"x train = \",X_train.shape)\n",
    "\t\t# print(\"y train = \",Y_train.shape)\n",
    "\t\t# print(\"x_train type =\",type(X_train))\n",
    "\t\t# model.fit( X_train,Y_train )\n",
    "\t\t# (||Y - X W||^2  + lambda*||w||^2 )\n",
    "\t\tW,b=ridgereg(X_train,Y_train,lamda)\n",
    "\t\tY_pred=predridgereg( X_test,W,b )\n",
    "\t\t# Y_pred = model.predict( X_test )  \n",
    "\t\tmse = np.square(np.subtract(Y_test, Y_pred)).mean()\n",
    "\t\t# print(\"mse = \",mse)\n",
    "\t\t# mse_error.append(mse)\n",
    "\t\ttotal_mse += mse\n",
    "\tmse_error.append(total_mse)\n",
    "\ttest_df = pd.DataFrame(test,columns=['age','sex','bmi','children','smoker','region','charges'])\n",
    "\tX_test_df = test_df.drop([test_df.columns[-1]], axis = 1)\n",
    "\tY_test_df = test_df[test_df.columns[-1]]\n",
    "\tridgereg(X_train,Y_train,lamda)\n",
    "\t# Y_pred_test = model.predict(X_test_df)\n",
    "\tY_pred_test=predridgereg(X_test_df,W,b)\n",
    "\tmse_test = np.square(np.subtract(Y_test_df, Y_pred_test)).mean()\n",
    "\ttest_error.append(mse_test)\n",
    "\ttraining_error.append(sum(mse_error)/k)\n",
    "\n",
    "\n",
    "\n",
    "print(\"mse_error : \",mse_error)\n",
    "print(\"training error :\",training_error)\n",
    "print(\"test error :\",test_error)\n",
    "\t\t"
   ]
  },
  {
   "cell_type": "code",
   "execution_count": 61,
   "metadata": {},
   "outputs": [
    {
     "data": {
      "image/png": "[encoded data removed]",
      "text/plain": [
       "<Figure size 432x288 with 1 Axes>"
      ]
     },
     "metadata": {
      "needs_background": "light"
     },
     "output_type": "display_data"
    },
    {
     "data": {
      "image/png": "[encoded data removed]",
      "text/plain": [
       "<Figure size 432x288 with 1 Axes>"
      ]
     },
     "metadata": {
      "needs_background": "light"
     },
     "output_type": "display_data"
    },
    {
     "data": {
      "image/png": "[encoded data removed]",
      "text/plain": [
       "<Figure size 432x288 with 1 Axes>"
      ]
     },
     "metadata": {
      "needs_background": "light"
     },
     "output_type": "display_data"
    }
   ],
   "source": [
    "plt.plot(lamda_values,mse_error,color=\"blue\")\n",
    "plt.title( 'Mean square error vs Lambda Values' )    \n",
    "plt.xlabel('Lambda Values',color='white')\n",
    "plt.ylabel( 'Mean square error',color='white') \n",
    "plt.show()\n",
    "\n",
    "plt.plot(lamda_values,training_error,color=\"blue\")\n",
    "plt.title( 'training error vs Lambda Values' )    \n",
    "plt.xlabel('Lambda Values',color='white')\n",
    "plt.ylabel( 'Training error',color='white') \n",
    "plt.show()\n",
    "\n",
    "plt.plot(lamda_values,test_error,color=\"blue\")\n",
    "plt.title( 'Mean square error vs Lambda Values' )    \n",
    "plt.xlabel('Lambda Values',color='white')\n",
    "plt.ylabel( 'Testing error',color='white') \n",
    "plt.show()"
   ]
  },
  {
   "cell_type": "code",
   "execution_count": null,
   "metadata": {},
   "outputs": [],
   "source": []
  }
 ],
 "metadata": {
  "interpreter": {
   "hash": "dd4e136ccb25f3c1d4cf927f595f0e0a60d2a72e76ff7233a6b4dcb2c7614e23"
  },
  "kernelspec": {
   "display_name": "Python 3.10.1 64-bit",
   "language": "python",
   "name": "python3"
  },
  "language_info": {
   "codemirror_mode": {
    "name": "ipython",
    "version": 3
   },
   "file_extension": ".py",
   "mimetype": "text/x-python",
   "name": "python",
   "nbconvert_exporter": "python",
   "pygments_lexer": "ipython3",
   "version": "3.10.1"
  },
  "orig_nbformat": 4
 },
 "nbformat": 4,
 "nbformat_minor": 2
}
